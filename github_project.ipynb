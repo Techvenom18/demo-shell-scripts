{
 "cells": [
  {
   "cell_type": "code",
   "execution_count": 1,
   "id": "f0223277-3329-4981-b641-6aec4c9f104e",
   "metadata": {},
   "outputs": [],
   "source": [
    "# Data Analytics Project: Nifty 50 vs HCL Technologies\n",
    "\n",
    "# 1. Import required libraries\n",
    "import pandas as pd\n",
    "import numpy as np\n",
    "import matplotlib.pyplot as plt\n",
    "import yfinance as yf\n",
    "import datetime as dt"
   ]
  },
  {
   "cell_type": "code",
   "execution_count": 2,
   "id": "f8369768-a7ed-430e-8ce1-c0a1f31ee89f",
   "metadata": {},
   "outputs": [
    {
     "name": "stderr",
     "output_type": "stream",
     "text": [
      "C:\\Users\\sumit\\AppData\\Local\\Temp\\ipykernel_18396\\1119885826.py:7: FutureWarning: YF.download() has changed argument auto_adjust default to True\n",
      "  df = yf.download(ticker, start=start, end=end)\n",
      "[*********************100%***********************]  1 of 1 completed\n",
      "C:\\Users\\sumit\\AppData\\Local\\Temp\\ipykernel_18396\\1119885826.py:12: FutureWarning: YF.download() has changed argument auto_adjust default to True\n",
      "  nifty_close = yf.download(ticker, start=start, end=end)['Close']\n",
      "[*********************100%***********************]  1 of 1 completed"
     ]
    },
    {
     "name": "stdout",
     "output_type": "stream",
     "text": [
      "Complete Nifty 50 data (first 5 rows):\n",
      "Price             Close         High          Low         Open Volume\n",
      "Ticker            ^NSEI        ^NSEI        ^NSEI        ^NSEI  ^NSEI\n",
      "Date                                                                 \n",
      "2011-01-03  6157.600098  6178.549805  6147.200195  6177.450195      0\n",
      "2011-01-04  6146.350098  6181.049805  6124.399902  6172.750000      0\n",
      "2011-01-05  6079.799805  6141.350098  6062.350098  6141.350098      0\n",
      "2011-01-06  6048.250000  6116.149902  6022.299805  6107.000000      0\n",
      "2011-01-07  5904.600098  6051.200195  5883.600098  6030.899902      0\n",
      "\n",
      "Nifty 50 Closing Prices (first 5 rows):\n",
      "Ticker            ^NSEI\n",
      "Date                   \n",
      "2011-01-03  6157.600098\n",
      "2011-01-04  6146.350098\n",
      "2011-01-05  6079.799805\n",
      "2011-01-06  6048.250000\n",
      "2011-01-07  5904.600098\n"
     ]
    },
    {
     "name": "stderr",
     "output_type": "stream",
     "text": [
      "\n"
     ]
    }
   ],
   "source": [
    "# 2. Data Collection - Nifty 50\n",
    "ticker = ['^NSEI']\n",
    "start = dt.datetime(2011, 1, 1)\n",
    "end = dt.datetime(2022, 12, 31)\n",
    "\n",
    "# Fetch all price data for Nifty 50\n",
    "df = yf.download(ticker, start=start, end=end)\n",
    "print(\"Complete Nifty 50 data (first 5 rows):\")\n",
    "print(df.head())\n",
    "\n",
    "# Fetch only closing prices for Nifty 50\n",
    "nifty_close = yf.download(ticker, start=start, end=end)['Close']\n",
    "print(\"\\nNifty 50 Closing Prices (first 5 rows):\")\n",
    "print(nifty_close.head())"
   ]
  },
  {
   "cell_type": "code",
   "execution_count": 3,
   "id": "102894f2-3bee-4733-9312-4e6cdeea86b3",
   "metadata": {},
   "outputs": [
    {
     "name": "stderr",
     "output_type": "stream",
     "text": [
      "C:\\Users\\sumit\\AppData\\Local\\Temp\\ipykernel_18396\\727249838.py:6: FutureWarning: YF.download() has changed argument auto_adjust default to True\n",
      "  data[ticker] = yf.download(ticker, start=start, end=end)['Close']\n",
      "[*********************100%***********************]  1 of 1 completed\n",
      "C:\\Users\\sumit\\AppData\\Local\\Temp\\ipykernel_18396\\727249838.py:6: FutureWarning: YF.download() has changed argument auto_adjust default to True\n",
      "  data[ticker] = yf.download(ticker, start=start, end=end)['Close']\n",
      "[*********************100%***********************]  1 of 1 completed"
     ]
    },
    {
     "name": "stdout",
     "output_type": "stream",
     "text": [
      "\n",
      "Combined Nifty and Sensex Closing Prices (first 5 rows):\n",
      "                  ^NSEI        ^BSESN\n",
      "Ticker            ^NSEI        ^BSESN\n",
      "Date                                 \n",
      "2011-01-03  6157.600098  20561.050781\n",
      "2011-01-04  6146.350098  20498.720703\n",
      "2011-01-05  6079.799805  20301.099609\n",
      "2011-01-06  6048.250000  20184.740234\n",
      "2011-01-07  5904.600098  19691.810547\n"
     ]
    },
    {
     "name": "stderr",
     "output_type": "stream",
     "text": [
      "\n"
     ]
    }
   ],
   "source": [
    "# 3. Data Collection - Multiple Indices\n",
    "tickers = [\"^NSEI\", \"^BSESN\"]  # Nifty 50 and BSE Sensex\n",
    "data = {}\n",
    "\n",
    "for ticker in tickers:\n",
    "    data[ticker] = yf.download(ticker, start=start, end=end)['Close']\n",
    "\n",
    "# Combine into single DataFrame\n",
    "combined_df = pd.concat(data, axis=1)\n",
    "print(\"\\nCombined Nifty and Sensex Closing Prices (first 5 rows):\")\n",
    "print(combined_df.head())"
   ]
  },
  {
   "cell_type": "code",
   "execution_count": 4,
   "id": "5856ec67-a86a-4049-aa2e-e80b8ffb1495",
   "metadata": {},
   "outputs": [
    {
     "name": "stderr",
     "output_type": "stream",
     "text": [
      "C:\\Users\\sumit\\AppData\\Local\\Temp\\ipykernel_18396\\2356955769.py:6: FutureWarning: YF.download() has changed argument auto_adjust default to True\n",
      "  data[ticker] = yf.download(ticker, start=start, end=end)[['Close']]\n",
      "[*********************100%***********************]  1 of 1 completed\n",
      "C:\\Users\\sumit\\AppData\\Local\\Temp\\ipykernel_18396\\2356955769.py:6: FutureWarning: YF.download() has changed argument auto_adjust default to True\n",
      "  data[ticker] = yf.download(ticker, start=start, end=end)[['Close']]\n",
      "[*********************100%***********************]  1 of 1 completed"
     ]
    },
    {
     "name": "stdout",
     "output_type": "stream",
     "text": [
      "\n",
      "Nifty and HCL Tech Closing Prices (first 5 rows):\n",
      "                  Nifty        HCL\n",
      "Date                              \n",
      "2011-01-03  6157.600098  81.966270\n",
      "2011-01-04  6146.350098  83.229660\n",
      "2011-01-05  6079.799805  85.251045\n",
      "2011-01-06  6048.250000  86.216667\n",
      "2011-01-07  5904.600098  83.969658\n"
     ]
    },
    {
     "name": "stderr",
     "output_type": "stream",
     "text": [
      "\n"
     ]
    }
   ],
   "source": [
    "# 4. Data Collection - Nifty 50 and HCL Tech\n",
    "tickers = ['^NSEI', 'HCLTECH.NS']\n",
    "data = {}\n",
    "\n",
    "for ticker in tickers:\n",
    "    data[ticker] = yf.download(ticker, start=start, end=end)[['Close']]\n",
    "\n",
    "# Combine and rename columns\n",
    "stock_df = pd.concat(data, axis=1)\n",
    "stock_df.columns = ['Nifty', 'HCL']\n",
    "print(\"\\nNifty and HCL Tech Closing Prices (first 5 rows):\")\n",
    "print(stock_df.head())"
   ]
  },
  {
   "cell_type": "code",
   "execution_count": 5,
   "id": "3bf1bc55-2b4a-4709-9421-40c86d400461",
   "metadata": {},
   "outputs": [
    {
     "name": "stdout",
     "output_type": "stream",
     "text": [
      "\n",
      "Descriptive Statistics for both stocks:\n",
      "              Nifty          HCL\n",
      "count   2939.000000  2959.000000\n",
      "mean    9737.655923   409.209470\n",
      "std     3793.234035   272.957945\n",
      "min     4544.200195    65.996704\n",
      "25%     6204.150146   235.138496\n",
      "50%     8777.150391   351.997009\n",
      "75%    11521.424805   464.540421\n",
      "max    18812.500000  1175.340576\n",
      "\n",
      "Nifty Descriptive Stats:\n",
      "count     2939.000000\n",
      "mean      9737.655923\n",
      "std       3793.234035\n",
      "min       4544.200195\n",
      "25%       6204.150146\n",
      "50%       8777.150391\n",
      "75%      11521.424805\n",
      "max      18812.500000\n",
      "Name: Nifty, dtype: float64\n",
      "\n",
      "HCL Descriptive Stats:\n",
      "count    2959.000000\n",
      "mean      409.209470\n",
      "std       272.957945\n",
      "min        65.996704\n",
      "25%       235.138496\n",
      "50%       351.997009\n",
      "75%       464.540421\n",
      "max      1175.340576\n",
      "Name: HCL, dtype: float64\n"
     ]
    }
   ],
   "source": [
    "# 5. Descriptive Statistics\n",
    "print(\"\\nDescriptive Statistics for both stocks:\")\n",
    "print(stock_df.describe())\n",
    "\n",
    "# Individual statistics\n",
    "nifty_stats = stock_df['Nifty'].describe()\n",
    "hcl_stats = stock_df['HCL'].describe()\n",
    "\n",
    "print(\"\\nNifty Descriptive Stats:\")\n",
    "print(nifty_stats)\n",
    "print(\"\\nHCL Descriptive Stats:\")\n",
    "print(hcl_stats)"
   ]
  },
  {
   "cell_type": "code",
   "execution_count": 6,
   "id": "bc64f319-93a1-4478-93af-ae3b024d83bb",
   "metadata": {},
   "outputs": [
    {
     "name": "stdout",
     "output_type": "stream",
     "text": [
      "\n",
      "Randomly selected Nifty data points:\n",
      "Date\n",
      "2019-03-05    10987.450195\n",
      "2017-11-10    10321.750000\n",
      "2014-02-05     6022.399902\n",
      "2019-05-15    11157.000000\n",
      "2019-03-25    11354.250000\n",
      "Name: Nifty, dtype: float64\n",
      "\n",
      "Randomly selected HCL data points:\n",
      "Date\n",
      "2018-07-30    389.877625\n",
      "2017-03-22    353.645142\n",
      "2022-08-12    861.906982\n",
      "2016-09-07    314.178192\n",
      "2017-10-13    378.906982\n",
      "Name: HCL, dtype: float64\n",
      "\n",
      "Z-scores for randomly selected Nifty points:\n",
      "Date\n",
      "2019-03-05    0.329480\n",
      "2017-11-10    0.153983\n",
      "2014-02-05   -0.979443\n",
      "2019-05-15    0.374178\n",
      "2019-03-25    0.426178\n",
      "Name: Nifty, dtype: float64\n",
      "\n",
      "Z-scores for randomly selected HCL points:\n",
      "Date\n",
      "2018-07-30   -0.070824\n",
      "2017-03-22   -0.203564\n",
      "2022-08-12    1.658488\n",
      "2016-09-07   -0.348154\n",
      "2017-10-13   -0.111015\n",
      "Name: HCL, dtype: float64\n"
     ]
    }
   ],
   "source": [
    "# 6. Random Sampling and Z-Score Analysis\n",
    "# Set random seed for reproducibility\n",
    "np.random.seed(42)\n",
    "\n",
    "# Randomly select 5 data points\n",
    "random_nifty = stock_df['Nifty'].sample(5)\n",
    "random_hcl = stock_df['HCL'].sample(5)\n",
    "\n",
    "print(\"\\nRandomly selected Nifty data points:\")\n",
    "print(random_nifty)\n",
    "print(\"\\nRandomly selected HCL data points:\")\n",
    "print(random_hcl)\n",
    "\n",
    "# Calculate mean and standard deviation\n",
    "nifty_mean, nifty_std = stock_df['Nifty'].mean(), stock_df['Nifty'].std()\n",
    "hcl_mean, hcl_std = stock_df['HCL'].mean(), stock_df['HCL'].std()\n",
    "\n",
    "# Calculate Z-scores\n",
    "nifty_z_scores = (random_nifty - nifty_mean) / nifty_std\n",
    "hcl_z_scores = (random_hcl - hcl_mean) / hcl_std\n",
    "\n",
    "print(\"\\nZ-scores for randomly selected Nifty points:\")\n",
    "print(nifty_z_scores)\n",
    "print(\"\\nZ-scores for randomly selected HCL points:\")\n",
    "print(hcl_z_scores)"
   ]
  },
  {
   "cell_type": "code",
   "execution_count": 7,
   "id": "c4a31c80-36b1-4d29-8fd7-be72485a312e",
   "metadata": {},
   "outputs": [
    {
     "name": "stdout",
     "output_type": "stream",
     "text": [
      "\n",
      "\u001b[42mZ-Score Interpretation for Random Points\u001b[0m\n",
      "\n",
      "Point 1:\n",
      "Nifty Z-Score: 0.33 - Nifty is performing well (above mean) (⇗)\n",
      "HCL Z-Score: -0.07 - HCL Tech is performing poorly (below mean) (⇘)\n",
      "###################################\n",
      "\n",
      "Point 2:\n",
      "Nifty Z-Score: 0.15 - Nifty is performing well (above mean) (⇗)\n",
      "HCL Z-Score: -0.20 - HCL Tech is performing poorly (below mean) (⇘)\n",
      "###################################\n",
      "\n",
      "Point 3:\n",
      "Nifty Z-Score: -0.98 - Nifty is performing poorly (below mean) (⇘)\n",
      "HCL Z-Score: 1.66 - HCL Tech is performing well (above mean) (⇗)\n",
      "###################################\n",
      "\n",
      "Point 4:\n",
      "Nifty Z-Score: 0.37 - Nifty is performing well (above mean) (⇗)\n",
      "HCL Z-Score: -0.35 - HCL Tech is performing poorly (below mean) (⇘)\n",
      "###################################\n",
      "\n",
      "Point 5:\n",
      "Nifty Z-Score: 0.43 - Nifty is performing well (above mean) (⇗)\n",
      "HCL Z-Score: -0.11 - HCL Tech is performing poorly (below mean) (⇘)\n",
      "###################################\n"
     ]
    }
   ],
   "source": [
    "# 7. Z-Score Interpretation Function\n",
    "def interpret_zscore(zscore, ticker):\n",
    "    if zscore > 0:\n",
    "        return f\"{ticker} is performing well (above mean) (⇗)\"\n",
    "    elif zscore < 0:\n",
    "        return f\"{ticker} is performing poorly (below mean) (⇘)\"\n",
    "    else:\n",
    "        return f\"{ticker} is performing at average (equal to mean) (-)\"\n",
    "\n",
    "# Print interpretations with colored header\n",
    "print(\"\\n\\033[42mZ-Score Interpretation for Random Points\\033[0m\")\n",
    "for i in range(5):\n",
    "    print(f\"\\nPoint {i+1}:\")\n",
    "    print(f\"Nifty Z-Score: {nifty_z_scores.iloc[i]:.2f} - {interpret_zscore(nifty_z_scores.iloc[i], 'Nifty')}\")\n",
    "    print(f\"HCL Z-Score: {hcl_z_scores.iloc[i]:.2f} - {interpret_zscore(hcl_z_scores.iloc[i], 'HCL Tech')}\")\n",
    "    print(\"###################################\")"
   ]
  },
  {
   "cell_type": "code",
   "execution_count": 8,
   "id": "4608f75c-53e3-49c5-8946-01a269a840db",
   "metadata": {},
   "outputs": [],
   "source": [
    "# 8. Visualization (Optional - uncomment to use)\n",
    "# plt.figure(figsize=(12, 6))\n",
    "# plt.plot(stock_df['Nifty'], label='Nifty 50')\n",
    "# plt.plot(stock_df['HCL'], label='HCL Tech')\n",
    "# plt.title('Nifty 50 vs HCL Technologies (2011-2022)')\n",
    "# plt.xlabel('Date')\n",
    "# plt.ylabel('Price')\n",
    "# plt.legend()\n",
    "# plt.grid(True)\n",
    "# plt.show()"
   ]
  },
  {
   "cell_type": "code",
   "execution_count": null,
   "id": "90c5bfe2-bb97-4535-9597-a62b31c7f8be",
   "metadata": {},
   "outputs": [],
   "source": []
  }
 ],
 "metadata": {
  "kernelspec": {
   "display_name": "Python 3 (ipykernel)",
   "language": "python",
   "name": "python3"
  },
  "language_info": {
   "codemirror_mode": {
    "name": "ipython",
    "version": 3
   },
   "file_extension": ".py",
   "mimetype": "text/x-python",
   "name": "python",
   "nbconvert_exporter": "python",
   "pygments_lexer": "ipython3",
   "version": "3.12.7"
  }
 },
 "nbformat": 4,
 "nbformat_minor": 5
}
